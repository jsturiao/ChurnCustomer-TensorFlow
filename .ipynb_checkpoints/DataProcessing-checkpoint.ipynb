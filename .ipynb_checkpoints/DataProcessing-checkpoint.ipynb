{
 "cells": [
  {
   "cell_type": "markdown",
   "metadata": {},
   "source": [
    "## Redes Neurais Profundas aplicadas a Retenção de Clientes - Data Processing and Preparation"
   ]
  },
  {
   "cell_type": "markdown",
   "metadata": {},
   "source": [
    "### Extraindo dados do csv"
   ]
  },
  {
   "cell_type": "code",
   "execution_count": 1,
   "metadata": {},
   "outputs": [
    {
     "data": {
      "text/html": [
       "<div>\n",
       "<style scoped>\n",
       "    .dataframe tbody tr th:only-of-type {\n",
       "        vertical-align: middle;\n",
       "    }\n",
       "\n",
       "    .dataframe tbody tr th {\n",
       "        vertical-align: top;\n",
       "    }\n",
       "\n",
       "    .dataframe thead th {\n",
       "        text-align: right;\n",
       "    }\n",
       "</style>\n",
       "<table border=\"1\" class=\"dataframe\">\n",
       "  <thead>\n",
       "    <tr style=\"text-align: right;\">\n",
       "      <th></th>\n",
       "      <th>0</th>\n",
       "      <th>1</th>\n",
       "      <th>2</th>\n",
       "      <th>3</th>\n",
       "      <th>4</th>\n",
       "      <th>5</th>\n",
       "      <th>6</th>\n",
       "      <th>7</th>\n",
       "      <th>8</th>\n",
       "      <th>9</th>\n",
       "      <th>10</th>\n",
       "      <th>11</th>\n",
       "    </tr>\n",
       "  </thead>\n",
       "  <tbody>\n",
       "    <tr>\n",
       "      <th>0</th>\n",
       "      <td>15634602.0</td>\n",
       "      <td>619.0</td>\n",
       "      <td>0.0</td>\n",
       "      <td>0.0</td>\n",
       "      <td>42.0</td>\n",
       "      <td>2.0</td>\n",
       "      <td>0.00</td>\n",
       "      <td>1.0</td>\n",
       "      <td>1.0</td>\n",
       "      <td>1.0</td>\n",
       "      <td>101348.88</td>\n",
       "      <td>1.0</td>\n",
       "    </tr>\n",
       "    <tr>\n",
       "      <th>1</th>\n",
       "      <td>15647311.0</td>\n",
       "      <td>608.0</td>\n",
       "      <td>1.0</td>\n",
       "      <td>0.0</td>\n",
       "      <td>41.0</td>\n",
       "      <td>1.0</td>\n",
       "      <td>83807.86</td>\n",
       "      <td>1.0</td>\n",
       "      <td>0.0</td>\n",
       "      <td>1.0</td>\n",
       "      <td>112542.58</td>\n",
       "      <td>0.0</td>\n",
       "    </tr>\n",
       "    <tr>\n",
       "      <th>2</th>\n",
       "      <td>15619304.0</td>\n",
       "      <td>502.0</td>\n",
       "      <td>0.0</td>\n",
       "      <td>0.0</td>\n",
       "      <td>42.0</td>\n",
       "      <td>8.0</td>\n",
       "      <td>159660.80</td>\n",
       "      <td>3.0</td>\n",
       "      <td>1.0</td>\n",
       "      <td>0.0</td>\n",
       "      <td>113931.57</td>\n",
       "      <td>1.0</td>\n",
       "    </tr>\n",
       "    <tr>\n",
       "      <th>3</th>\n",
       "      <td>15701354.0</td>\n",
       "      <td>699.0</td>\n",
       "      <td>0.0</td>\n",
       "      <td>0.0</td>\n",
       "      <td>39.0</td>\n",
       "      <td>1.0</td>\n",
       "      <td>0.00</td>\n",
       "      <td>2.0</td>\n",
       "      <td>0.0</td>\n",
       "      <td>0.0</td>\n",
       "      <td>93826.63</td>\n",
       "      <td>0.0</td>\n",
       "    </tr>\n",
       "    <tr>\n",
       "      <th>4</th>\n",
       "      <td>15737888.0</td>\n",
       "      <td>850.0</td>\n",
       "      <td>1.0</td>\n",
       "      <td>0.0</td>\n",
       "      <td>43.0</td>\n",
       "      <td>2.0</td>\n",
       "      <td>125510.82</td>\n",
       "      <td>1.0</td>\n",
       "      <td>1.0</td>\n",
       "      <td>1.0</td>\n",
       "      <td>79084.10</td>\n",
       "      <td>0.0</td>\n",
       "    </tr>\n",
       "  </tbody>\n",
       "</table>\n",
       "</div>"
      ],
      "text/plain": [
       "           0      1    2    3     4    5          6    7    8    9   \\\n",
       "0  15634602.0  619.0  0.0  0.0  42.0  2.0       0.00  1.0  1.0  1.0   \n",
       "1  15647311.0  608.0  1.0  0.0  41.0  1.0   83807.86  1.0  0.0  1.0   \n",
       "2  15619304.0  502.0  0.0  0.0  42.0  8.0  159660.80  3.0  1.0  0.0   \n",
       "3  15701354.0  699.0  0.0  0.0  39.0  1.0       0.00  2.0  0.0  0.0   \n",
       "4  15737888.0  850.0  1.0  0.0  43.0  2.0  125510.82  1.0  1.0  1.0   \n",
       "\n",
       "          10   11  \n",
       "0  101348.88  1.0  \n",
       "1  112542.58  0.0  \n",
       "2  113931.57  1.0  \n",
       "3   93826.63  0.0  \n",
       "4   79084.10  0.0  "
      ]
     },
     "execution_count": 1,
     "metadata": {},
     "output_type": "execute_result"
    }
   ],
   "source": [
    "import numpy as np\n",
    "import pandas as pd\n",
    "from sklearn import preprocessing\n",
    "\n",
    "# Algumas alterações foram feitas nesse dataset, com relação a padronização de dados\n",
    "# Na coluna Gender (Genero) ficou assim: Male = 1. Female = 0\n",
    "# Na coluna Geography (Pais) ficou assim: France: 0 Spain: 1 Germany: 2\n",
    "\n",
    "# Carregamos os dados. Skiprows é para pular a primeira linha, com os títulos\n",
    "raw_csv_data = np.loadtxt('ChurnModelling.csv',delimiter=',', skiprows = 1)\n",
    "\n",
    "# Colocamos em uma variável a primeira e a última coluna do dataset, que são o ID e o target\n",
    "unscaled_inputs_all = raw_csv_data[:,1:-1]\n",
    "\n",
    "# Array contendo o alvo\n",
    "targets_all = raw_csv_data[:,-1]\n",
    "\n",
    "# Visualizando os dados carregados em um dataframe\n",
    "df = pd.DataFrame(raw_csv_data)\n",
    "df.head()"
   ]
  },
  {
   "cell_type": "markdown",
   "metadata": {},
   "source": [
    "### Balanceamento do Dataset"
   ]
  },
  {
   "cell_type": "code",
   "execution_count": 2,
   "metadata": {},
   "outputs": [],
   "source": [
    "# Contar a quantidade de clientes que saiu Exited = 1\n",
    "num_one_targets = int(np.sum(targets_all))\n",
    "\n",
    "# Definir o contador para os clientes que não sairam\n",
    "zero_targets_counter = 0\n",
    "\n",
    "# Iremos criar um dataset balanceado\n",
    "indices_to_remove = []\n",
    "\n",
    "# Contar a quantidade de clientes que não sairam\n",
    "for i in range(targets_all.shape[0]):\n",
    "    if targets_all[i] == 0:\n",
    "        zero_targets_counter = zero_targets_counter + 1\n",
    "        if zero_targets_counter > num_one_targets:\n",
    "            indices_to_remove.append(i)\n",
    "\n",
    "# Criamos duas novas variáveis, uma contendo as entradas e outra que contenha os alvos.\n",
    "# Nós deletamos todos os índices que colocamos no array, no loop acima.\n",
    "unscaled_inputs_equal_priors = np.delete(unscaled_inputs_all, indices_to_remove, axis=0)\n",
    "targets_equal_priors = np.delete(targets_all, indices_to_remove, axis=0)"
   ]
  },
  {
   "cell_type": "code",
   "execution_count": 3,
   "metadata": {},
   "outputs": [],
   "source": [
    "unscaled_inputs_equal_priors = unscaled_inputs_all = raw_csv_data[:,1:-1]\n",
    "targets_equal_priors = targets_all = raw_csv_data[:,-1]"
   ]
  },
  {
   "cell_type": "markdown",
   "metadata": {},
   "source": [
    "### Padronização das variáveis de input"
   ]
  },
  {
   "cell_type": "code",
   "execution_count": 4,
   "metadata": {},
   "outputs": [],
   "source": [
    "# Esse é o único lugar onde usamos a funcionalidade sklearn. É uma linha simples de código, que padroniza as entradas.\n",
    "scaled_inputs = preprocessing.scale(unscaled_inputs_equal_priors)"
   ]
  },
  {
   "cell_type": "markdown",
   "metadata": {},
   "source": [
    "### Alterando a ordem dos dados"
   ]
  },
  {
   "cell_type": "markdown",
   "metadata": {},
   "source": [
    "##### Dadsos ordenados podem ser tendenciosos. Para tanto, fazemos o shuffle (embaralhamento) dos dados, para garantir que as amostras são, de fato, aleatórias."
   ]
  },
  {
   "cell_type": "code",
   "execution_count": 5,
   "metadata": {},
   "outputs": [],
   "source": [
    "# Quando os dados foram coletados, eles foram organizados por data\n",
    "# Embaralhe os índices dos dados, para que os dados não sejam organizados de forma alguma quando os alimentarmos.\n",
    "# Como os lotes serão enviados, queremos que os dados sejam distribuídos de forma tão aleatória quanto possível\n",
    "\n",
    "shuffled_indices = np.arange(unscaled_inputs_equal_priors.shape[0])\n",
    "np.random.shuffle(shuffled_indices)\n",
    "\n",
    "# Use os índices embaralhados para embaralhar as entradas e destinos.\n",
    "shuffled_inputs = scaled_inputs[shuffled_indices]\n",
    "shuffled_targets = targets_equal_priors[shuffled_indices]"
   ]
  },
  {
   "cell_type": "markdown",
   "metadata": {},
   "source": [
    "### Dividimos o dataset em 3 partes: Treino, Validação e Teste"
   ]
  },
  {
   "cell_type": "code",
   "execution_count": 7,
   "metadata": {},
   "outputs": [
    {
     "name": "stdout",
     "output_type": "stream",
     "text": [
      "Quantidade de dados de treino:  1618.0 8000 0.20225\n",
      "Quantidade de dados de validação:  214.0 1000 0.214\n",
      "Quantidade de dados de teste:  205.0 1000 0.205\n"
     ]
    }
   ],
   "source": [
    "# Contamos a quantidade de amostras no dataset\n",
    "samples_count = shuffled_inputs.shape[0]\n",
    "\n",
    "# Quantidade de dados de treino\n",
    "train_samples_count = int(0.8 * samples_count)\n",
    "# Quantidade de dados de validação\n",
    "validation_samples_count = int(0.1 * samples_count)\n",
    "# Quantidade de dados de teste\n",
    "test_samples_count = samples_count - train_samples_count - validation_samples_count\n",
    "\n",
    "# Variaveis para guardar os dados de treino\n",
    "train_inputs = shuffled_inputs[:train_samples_count]\n",
    "train_targets = shuffled_targets[:train_samples_count]\n",
    "\n",
    "# Variaveis para guardar os dados de validação\n",
    "validation_inputs = shuffled_inputs[train_samples_count:train_samples_count + validation_samples_count]\n",
    "validation_targets = shuffled_targets[train_samples_count:train_samples_count + validation_samples_count]\n",
    "\n",
    "# Variaveis para guardar os dados de teste - o que sobrou\n",
    "test_inputs = shuffled_inputs[train_samples_count + validation_samples_count:]\n",
    "test_targets = shuffled_targets[train_samples_count + validation_samples_count:]\n",
    "\n",
    "# Número de dados que são 1, o número total de amostras e a proporção para treinamento, validação e teste.\n",
    "print('Quantidade de dados de treino: ', np.sum(train_targets), train_samples_count, np.sum(train_targets) / train_samples_count)\n",
    "print('Quantidade de dados de validação: ', np.sum(validation_targets), validation_samples_count, np.sum(validation_targets) / validation_samples_count)\n",
    "print('Quantidade de dados de teste: ', np.sum(test_targets), test_samples_count, np.sum(test_targets) / test_samples_count)"
   ]
  },
  {
   "cell_type": "markdown",
   "metadata": {},
   "source": [
    "### Salvamos os arquivos no formato .npz"
   ]
  },
  {
   "cell_type": "code",
   "execution_count": 9,
   "metadata": {},
   "outputs": [],
   "source": [
    "np.savez('Churn_data_train', inputs=train_inputs, targets=train_targets)\n",
    "np.savez('Churn_data_validation', inputs=validation_inputs, targets=validation_targets)\n",
    "np.savez('Churn_data_test', inputs=test_inputs, targets=test_targets)"
   ]
  }
 ],
 "metadata": {
  "kernelspec": {
   "display_name": "Python 3",
   "language": "python",
   "name": "python3"
  },
  "language_info": {
   "codemirror_mode": {
    "name": "ipython",
    "version": 3
   },
   "file_extension": ".py",
   "mimetype": "text/x-python",
   "name": "python",
   "nbconvert_exporter": "python",
   "pygments_lexer": "ipython3",
   "version": "3.6.5"
  }
 },
 "nbformat": 4,
 "nbformat_minor": 2
}
