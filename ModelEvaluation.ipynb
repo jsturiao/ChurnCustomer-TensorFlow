{
 "cells": [
  {
   "cell_type": "markdown",
   "metadata": {},
   "source": [
    "## Redes Neurais Profundas aplicadas a Retenção de Clientes - Model and Evaluation"
   ]
  },
  {
   "cell_type": "markdown",
   "metadata": {},
   "source": [
    "### Criamos a classe que irá ler os dados dos arquivos de treino, validação e teste e alimentar o modelo"
   ]
  },
  {
   "cell_type": "code",
   "execution_count": 1,
   "metadata": {},
   "outputs": [],
   "source": [
    "import numpy as np\n",
    "\n",
    "# Esta classe irá fazer o batch dos dados para o algoritmo. Ela sera um iterator.\n",
    "class Churn_Data_Reader():\n",
    "    \n",
    "    # O método init serve para carregar os dados dos arquivos .npz\n",
    "    # Precisamos passar o nome do dataset que queremos carregar.\n",
    "    # Se não colocar nada como parametro para o batch_size, então carregamos todos os dados de uma vez.\n",
    "    # Por exemplo, se passarmos: x = Churn_Data_Reader('Churn_data_train.npz', 10), ele ira carregar 10 amostras por vez\n",
    "    def __init__(self, dataset, batch_size = None):\n",
    "    \n",
    "        # Os datasets que serão utilizados são: Churn_data_test.npz, Churn_data_train.npz e Churn_data_validation.npz\n",
    "        # Os arquivos que geramos anteriormente.\n",
    "        npz = np.load('Churn_data_{0}.npz'.format(dataset))\n",
    "        \n",
    "        # Os valores provenientes do dataset serão armazenados nas variáveis abaixo.\n",
    "        # Aqui extraimmos os inputs (variaveis que irão alimentar o modelo).\n",
    "        # Como os valores estão em float, então, usamos np.float.\n",
    "        self.inputs = npz['inputs'].astype(np.float)\n",
    "        \n",
    "        # Aqui extraimos os targets, que em nosso caso são valores booleanos, 1 para ficou e 0 para saiu.\n",
    "        # Como são booleanos, podemos representar como int\n",
    "        self.targets = npz['targets'].astype(np.int)\n",
    "        \n",
    "        if batch_size is None:\n",
    "            self.batch_size = self.inputs.shape[0]\n",
    "        else:\n",
    "            self.batch_size = batch_size\n",
    "            \n",
    "        self.curr_batch = 0\n",
    "        self.batch_count = self.inputs.shape[0] // self.batch_size\n",
    "    \n",
    "    # Carrega o próximo lote de dados (batch) do arquivo .npz\n",
    "    def __next__(self):\n",
    "        \n",
    "        if self.curr_batch >= self.batch_count:\n",
    "            self.curr_batch = 0\n",
    "            raise StopIteration()\n",
    "            \n",
    "        batch_slice = slice(self.curr_batch * self.batch_size, (self.curr_batch + 1) * self.batch_size)\n",
    "        inputs_batch = self.inputs[batch_slice]\n",
    "        targets_batch = self.targets[batch_slice]\n",
    "        self.curr_batch = self.curr_batch + 1\n",
    "        \n",
    "        classes_num = 2\n",
    "        targets_one_hot = np.zeros((targets_batch.shape[0], classes_num))\n",
    "        targets_one_hot[range(targets_batch.shape[0]), targets_batch] = 1\n",
    "        \n",
    "        return inputs_batch, targets_one_hot\n",
    "    \n",
    "        # Método para iterar os lotes, pois os colocaremos em um loop.\n",
    "        # Isso diz ao Python que a classe que estamos definindo é iterável, ou seja, podemos usá-la da seguinte forma:\n",
    "        # Para entrada, saída em dados, etc\n",
    "        # Esse método apenas diz que essa classe é um iterator. Mas quem diz como iterar, é o método __next__\n",
    "\n",
    "    def __iter__(self):\n",
    "        return self"
   ]
  },
  {
   "cell_type": "markdown",
   "metadata": {},
   "source": [
    "### Definimos os parametros para nossa Rede Neural\n",
    "#### Utilizamos o Framework de Deep Learning da Google, o TensorFlow em nossa implementação de Rede Neural"
   ]
  },
  {
   "cell_type": "markdown",
   "metadata": {},
   "source": [
    "<img src = \"img/tensorflow_logo.png\" align = \"center\">"
   ]
  },
  {
   "cell_type": "markdown",
   "metadata": {},
   "source": [
    "### Como nossa Rede Neural será:\n",
    "##### 4 Camadas, sendo 1 Entrada, 2 Ocultas e 1 de Saída\n",
    "##### Entrada com 10 Neurônios, pois temos 10 variáveis de input, Ocultas com 50 Neurônios cada e a saída com apenas 2, pois são 2 classes apenas."
   ]
  },
  {
   "cell_type": "markdown",
   "metadata": {},
   "source": [
    "<img src = \"img/tensorflow.png\" align = \"center\">"
   ]
  },
  {
   "cell_type": "code",
   "execution_count": 2,
   "metadata": {},
   "outputs": [
    {
     "name": "stderr",
     "output_type": "stream",
     "text": [
      "/opt/conda/lib/python3.6/site-packages/h5py/__init__.py:36: FutureWarning: Conversion of the second argument of issubdtype from `float` to `np.floating` is deprecated. In future, it will be treated as `np.float64 == np.dtype(float).type`.\n",
      "  from ._conv import register_converters as _register_converters\n"
     ]
    },
    {
     "name": "stdout",
     "output_type": "stream",
     "text": [
      "WARNING:tensorflow:From <ipython-input-2-603800d6e291>:42: softmax_cross_entropy_with_logits (from tensorflow.python.ops.nn_ops) is deprecated and will be removed in a future version.\n",
      "Instructions for updating:\n",
      "\n",
      "Future major versions of TensorFlow will allow gradients to flow\n",
      "into the labels input on backprop by default.\n",
      "\n",
      "See @{tf.nn.softmax_cross_entropy_with_logits_v2}.\n",
      "\n"
     ]
    }
   ],
   "source": [
    "# Importamos o Tensorflow\n",
    "import tensorflow as tf\n",
    "\n",
    "# Quantidade de variáveis de input - No dataset que estamos utilizando, são 10\n",
    "input_size = 10\n",
    "\n",
    "# Quantidade de Classes que teremos. Apenas 2, pois serão 0 ou 1.\n",
    "output_size = 2\n",
    "\n",
    "# Quantidade de neuronios da camada oculta\n",
    "hidden_layer_size = 50\n",
    "\n",
    "# Resetamos o grafo, para que possamos mexer com os hiperparâmetros e executar novamente o código.\n",
    "tf.reset_default_graph()\n",
    "\n",
    "# Criamos os placeholders - Reservamos o local de armazenamento dos dados no Grafo\n",
    "# Inputs\n",
    "inputs = tf.placeholder(tf.float32, [None, input_size])\n",
    "\n",
    "# Targets - Alvos\n",
    "targets = tf.placeholder(tf.int32, [None, output_size])\n",
    "\n",
    "# Camadas Ocultas\n",
    "# Criaremos uma rede neural com 2 camadas ocultas, com 50 neurons, cada uma\n",
    "# A primeira camada terá relu como função de ativação\n",
    "weights_1 = tf.get_variable(\"Peso01\", [input_size, hidden_layer_size])\n",
    "biases_1 = tf.get_variable(\"Tendencia01\", [hidden_layer_size])\n",
    "outputs_1 = tf.nn.relu(tf.matmul(inputs, weights_1) + biases_1)\n",
    "\n",
    "# A segunda camada terá sigmoid como função de ativação\n",
    "weights_2 = tf.get_variable(\"Peso02\", [hidden_layer_size, hidden_layer_size])\n",
    "biases_2 = tf.get_variable(\"Tendencia02\", [hidden_layer_size])\n",
    "outputs_2 = tf.nn.sigmoid(tf.matmul(outputs_1, weights_2) + biases_2)\n",
    "\n",
    "# Camada de saída\n",
    "weights_3 = tf.get_variable(\"Peso03\", [hidden_layer_size, output_size])\n",
    "biases_3 = tf.get_variable(\"Tendencia03\", [output_size])\n",
    "\n",
    "outputs = tf.matmul(outputs_2, weights_3) + biases_3\n",
    "\n",
    "# Usar softmax cross entropy loss com logits\n",
    "loss = tf.nn.softmax_cross_entropy_with_logits(logits=outputs, labels=targets)\n",
    "mean_loss = tf.reduce_mean(loss)\n",
    "\n",
    "# Pegar a resposta\n",
    "out_equals_target = tf.equal(tf.argmax(outputs, 1), tf.argmax(targets, 1))\n",
    "accuracy = tf.reduce_mean(tf.cast(out_equals_target, tf.float32))\n",
    "\n",
    "# Otimização com Adam - Para fazer o backpropagation - Ou seja, varrer a rede de forma inversa atualizando os pesos e tendencias\n",
    "optimize = tf.train.AdamOptimizer(learning_rate = 0.001).minimize(mean_loss)"
   ]
  },
  {
   "cell_type": "markdown",
   "metadata": {},
   "source": [
    "### Iniciamos o sessão do Tensorflow"
   ]
  },
  {
   "cell_type": "code",
   "execution_count": 3,
   "metadata": {},
   "outputs": [],
   "source": [
    "# Inicializamos nosso modelo e fazemos a carga dos dados\n",
    "# Cria a sessão no tensorflow\n",
    "sess = tf.InteractiveSession()\n",
    "\n",
    "# Informamos o diretório para gravar os dados que serão lidos pelo tensorboard\n",
    "writer = tf.summary.FileWriter(\"./tensorboard\", sess.graph)\n",
    "writer.add_graph(sess.graph)\n",
    "\n",
    "# Inicializamos as variáveis\n",
    "initializer = tf.global_variables_initializer()\n",
    "sess.run(initializer)\n",
    "\n",
    "# Escolhemos o tamanho do batch que iremos carregar, em cada iteração.\n",
    "batch_size = 32\n",
    "\n",
    "# Quantidade de Epochs - Passadas que iremos dar através de nossa rede neural.\n",
    "max_epochs = 50\n",
    "prev_validation_loss = 9999999.\n",
    "\n",
    "# Carregamos o primeiro lote de treinamento e validação, usando a classe que criamos.\n",
    "train_data = Churn_Data_Reader('train', batch_size)\n",
    "validation_data = Churn_Data_Reader('validation')"
   ]
  },
  {
   "cell_type": "markdown",
   "metadata": {},
   "source": [
    "### Iniciamos o treino e a validação do modelo"
   ]
  },
  {
   "cell_type": "code",
   "execution_count": 4,
   "metadata": {},
   "outputs": [
    {
     "name": "stdout",
     "output_type": "stream",
     "text": [
      "Epoca 1. Treinamento - Loss: 0.453. Validação - Loss: 0.423. Validação - Accuracy: 81.60%\n",
      "Epoca 2. Treinamento - Loss: 0.403. Validação - Loss: 0.386. Validação - Accuracy: 84.20%\n",
      "Epoca 3. Treinamento - Loss: 0.376. Validação - Loss: 0.354. Validação - Accuracy: 85.20%\n",
      "Epoca 4. Treinamento - Loss: 0.359. Validação - Loss: 0.340. Validação - Accuracy: 86.30%\n",
      "Epoca 5. Treinamento - Loss: 0.353. Validação - Loss: 0.334. Validação - Accuracy: 86.40%\n",
      "Epoca 6. Treinamento - Loss: 0.349. Validação - Loss: 0.331. Validação - Accuracy: 86.40%\n",
      "Epoca 7. Treinamento - Loss: 0.347. Validação - Loss: 0.330. Validação - Accuracy: 86.50%\n",
      "Epoca 8. Treinamento - Loss: 0.345. Validação - Loss: 0.329. Validação - Accuracy: 86.20%\n",
      "Epoca 9. Treinamento - Loss: 0.344. Validação - Loss: 0.328. Validação - Accuracy: 86.20%\n",
      "Epoca 10. Treinamento - Loss: 0.342. Validação - Loss: 0.327. Validação - Accuracy: 86.30%\n",
      "Epoca 11. Treinamento - Loss: 0.341. Validação - Loss: 0.326. Validação - Accuracy: 86.60%\n",
      "Epoca 12. Treinamento - Loss: 0.340. Validação - Loss: 0.325. Validação - Accuracy: 86.50%\n",
      "Epoca 13. Treinamento - Loss: 0.339. Validação - Loss: 0.324. Validação - Accuracy: 86.60%\n",
      "Epoca 14. Treinamento - Loss: 0.338. Validação - Loss: 0.324. Validação - Accuracy: 86.40%\n",
      "Epoca 15. Treinamento - Loss: 0.337. Validação - Loss: 0.323. Validação - Accuracy: 86.50%\n",
      "Epoca 16. Treinamento - Loss: 0.336. Validação - Loss: 0.322. Validação - Accuracy: 86.50%\n",
      "Epoca 17. Treinamento - Loss: 0.335. Validação - Loss: 0.321. Validação - Accuracy: 86.50%\n",
      "Epoca 18. Treinamento - Loss: 0.333. Validação - Loss: 0.320. Validação - Accuracy: 86.10%\n",
      "Epoca 19. Treinamento - Loss: 0.332. Validação - Loss: 0.318. Validação - Accuracy: 86.00%\n",
      "Epoca 20. Treinamento - Loss: 0.331. Validação - Loss: 0.317. Validação - Accuracy: 86.00%\n",
      "Epoca 21. Treinamento - Loss: 0.330. Validação - Loss: 0.316. Validação - Accuracy: 86.00%\n",
      "Epoca 22. Treinamento - Loss: 0.329. Validação - Loss: 0.316. Validação - Accuracy: 85.90%\n",
      "Epoca 23. Treinamento - Loss: 0.328. Validação - Loss: 0.315. Validação - Accuracy: 86.00%\n",
      "Epoca 24. Treinamento - Loss: 0.327. Validação - Loss: 0.315. Validação - Accuracy: 86.00%\n",
      "Epoca 25. Treinamento - Loss: 0.327. Validação - Loss: 0.315. Validação - Accuracy: 86.10%\n",
      "Epoca 26. Treinamento - Loss: 0.326. Validação - Loss: 0.315. Validação - Accuracy: 86.00%\n",
      "Epoca 27. Treinamento - Loss: 0.326. Validação - Loss: 0.315. Validação - Accuracy: 86.00%\n",
      "Epoca 28. Treinamento - Loss: 0.325. Validação - Loss: 0.315. Validação - Accuracy: 86.00%\n",
      "Final do Treinamento.\n"
     ]
    }
   ],
   "source": [
    "# Crie o loop para epoch\n",
    "for epoch_counter in range(max_epochs):\n",
    "    \n",
    "    # Definimos a perda atual para o epoch como 0.\n",
    "    # Fazemos como float.\n",
    "    curr_epoch_loss = 0.\n",
    "    \n",
    "    for input_batch, target_batch in train_data:\n",
    "        _, batch_loss = sess.run([optimize, mean_loss], feed_dict={inputs: input_batch, targets: target_batch})\n",
    "        \n",
    "        # Atualizamos a perda atual\n",
    "        curr_epoch_loss = curr_epoch_loss + batch_loss\n",
    "    \n",
    "    # Encontramos a média da perda atual\n",
    "    # batch_count é uma variavel, definido na classe Churn_Data_Reader\n",
    "    curr_epoch_loss = curr_epoch_loss / train_data.batch_count\n",
    "    \n",
    "    # Definimos a perda e a acurácia da validação para 0\n",
    "    validation_loss = 0.\n",
    "    validation_accuracy = 0.\n",
    "    \n",
    "    # Usamos a mesma lógica do código para encaminhar a propagação do conjunto de validação\n",
    "    for input_batch, target_batch in validation_data:\n",
    "        validation_loss, validation_accuracy = sess.run([mean_loss, accuracy], feed_dict={inputs: input_batch, targets: target_batch})\n",
    "    \n",
    "    # Imprime as estatísticas de perda e acurácia para a epoch atual\n",
    "    print('Epoca ' + str(epoch_counter + 1) + \n",
    "          '. Treinamento - Loss: '+'{0:.3f}'.format(curr_epoch_loss) + \n",
    "          '. Validação - Loss: '+'{0:.3f}'.format(validation_loss) + \n",
    "          '. Validação - Accuracy: '+'{0:.2f}'.format(validation_accuracy * 100.) + '%')\n",
    "    \n",
    "    # Evita que a perda da validação começe a piorar\n",
    "    if validation_loss > prev_validation_loss:\n",
    "        break\n",
    "        \n",
    "    # Captura a perda para a proxima iteração\n",
    "    prev_validation_loss = validation_loss\n",
    "    \n",
    "print('Final do Treinamento.')"
   ]
  },
  {
   "cell_type": "markdown",
   "metadata": {},
   "source": [
    "### Testamos o modelo"
   ]
  },
  {
   "cell_type": "code",
   "execution_count": 5,
   "metadata": {},
   "outputs": [
    {
     "name": "stdout",
     "output_type": "stream",
     "text": [
      "Teste. Precisão - Accuracy: 85.50%\n"
     ]
    }
   ],
   "source": [
    "# Carregamos os dados de teste, seguindo a mesma lógica que fizemos para os dados de treino e validação\n",
    "test_data = Churn_Data_Reader('test')\n",
    "\n",
    "# Fazemos a propagação através do conjunto de treinamento. Desta vez só precisamos da acurácia\n",
    "for inputs_batch, targets_batch in test_data:\n",
    "    test_accuracy = sess.run([accuracy], feed_dict={inputs: inputs_batch, targets: targets_batch})\n",
    "\n",
    "# Define a acurácia do teste em percentual.\n",
    "# Quando o sess.run tem uma única saída, obtemos uma lista, em vez de um float.\n",
    "# Portanto, devemos pegar o primeiro valor da lista (o valor na posição 0)\n",
    "test_accuracy_percent = test_accuracy[0] * 100.\n",
    "\n",
    "# Imprime a acurácia do teste\n",
    "print('Teste. Precisão - Accuracy: '+'{0:.2f}'.format(test_accuracy_percent)+'%')"
   ]
  }
 ],
 "metadata": {
  "kernelspec": {
   "display_name": "Python 3",
   "language": "python",
   "name": "python3"
  },
  "language_info": {
   "codemirror_mode": {
    "name": "ipython",
    "version": 3
   },
   "file_extension": ".py",
   "mimetype": "text/x-python",
   "name": "python",
   "nbconvert_exporter": "python",
   "pygments_lexer": "ipython3",
   "version": "3.6.5"
  }
 },
 "nbformat": 4,
 "nbformat_minor": 2
}
